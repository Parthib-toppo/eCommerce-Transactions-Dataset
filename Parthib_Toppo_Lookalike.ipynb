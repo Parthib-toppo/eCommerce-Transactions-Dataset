{
  "nbformat": 4,
  "nbformat_minor": 0,
  "metadata": {
    "colab": {
      "provenance": [],
      "authorship_tag": "ABX9TyOAkQkdykmxXi5P8EcPFHAo",
      "include_colab_link": true
    },
    "kernelspec": {
      "name": "python3",
      "display_name": "Python 3"
    },
    "language_info": {
      "name": "python"
    }
  },
  "cells": [
    {
      "cell_type": "markdown",
      "metadata": {
        "id": "view-in-github",
        "colab_type": "text"
      },
      "source": [
        "<a href=\"https://colab.research.google.com/github/Parthib-toppo/eCommerce-Transactions-Dataset/blob/main/Parthib_Toppo_Lookalike.ipynb\" target=\"_parent\"><img src=\"https://colab.research.google.com/assets/colab-badge.svg\" alt=\"Open In Colab\"/></a>"
      ]
    },
    {
      "cell_type": "code",
      "execution_count": 1,
      "metadata": {
        "colab": {
          "base_uri": "https://localhost:8080/"
        },
        "id": "3c-vBw1M7vlL",
        "outputId": "5d16e9a1-15c2-4c23-df8e-40ccfb95fd98"
      },
      "outputs": [
        {
          "output_type": "stream",
          "name": "stdout",
          "text": [
            "Customers Dataset:\n",
            "   CustomerID        CustomerName         Region  SignupDate\n",
            "0      C0001    Lawrence Carroll  South America  2022-07-10\n",
            "1      C0002      Elizabeth Lutz           Asia  2022-02-13\n",
            "2      C0003      Michael Rivera  South America  2024-03-07\n",
            "3      C0004  Kathleen Rodriguez  South America  2022-10-09\n",
            "4      C0005         Laura Weber           Asia  2022-08-15 \n",
            "\n",
            "Products Dataset:\n",
            "   ProductID              ProductName     Category   Price\n",
            "0      P001     ActiveWear Biography        Books  169.30\n",
            "1      P002    ActiveWear Smartwatch  Electronics  346.30\n",
            "2      P003  ComfortLiving Biography        Books   44.12\n",
            "3      P004            BookWorld Rug   Home Decor   95.69\n",
            "4      P005          TechPro T-Shirt     Clothing  429.31 \n",
            "\n",
            "Transactions Dataset:\n",
            "   TransactionID CustomerID ProductID      TransactionDate  Quantity  \\\n",
            "0        T00001      C0199      P067  2024-08-25 12:38:23         1   \n",
            "1        T00112      C0146      P067  2024-05-27 22:23:54         1   \n",
            "2        T00166      C0127      P067  2024-04-25 07:38:55         1   \n",
            "3        T00272      C0087      P067  2024-03-26 22:55:37         2   \n",
            "4        T00363      C0070      P067  2024-03-21 15:10:10         3   \n",
            "\n",
            "   TotalValue   Price  \n",
            "0      300.68  300.68  \n",
            "1      300.68  300.68  \n",
            "2      300.68  300.68  \n",
            "3      601.36  300.68  \n",
            "4      902.04  300.68   \n",
            "\n",
            "Lookalike model results saved to Lookalike.csv\n"
          ]
        }
      ],
      "source": [
        "# Data Science Assignment: eCommerce Transactions Dataset\n",
        "\n",
        "# Importing necessary libraries\n",
        "import pandas as pd\n",
        "import numpy as np\n",
        "import matplotlib.pyplot as plt\n",
        "import seaborn as sns\n",
        "from sklearn.metrics.pairwise import cosine_similarity\n",
        "from sklearn.preprocessing import StandardScaler\n",
        "from sklearn.cluster import KMeans\n",
        "from sklearn.metrics import davies_bouldin_score\n",
        "from sklearn.decomposition import PCA\n",
        "\n",
        "# Loading the datasets\n",
        "customers_url = 'https://drive.google.com/uc?id=1bu_--mo79VdUG9oin4ybfFGRUSXAe-WE'\n",
        "products_url = 'https://drive.google.com/uc?id=1IKuDizVapw-hyktwfpoAoaGtHtTNHfd0'\n",
        "transactions_url = 'https://drive.google.com/uc?id=1saEqdbBB-vuk2hxoAf4TzDEsykdKlzbF'\n",
        "\n",
        "customers = pd.read_csv(customers_url)\n",
        "products = pd.read_csv(products_url)\n",
        "transactions = pd.read_csv(transactions_url)\n",
        "\n",
        "# Previewing the datasets\n",
        "print(\"Customers Dataset:\\n\", customers.head(), \"\\n\")\n",
        "print(\"Products Dataset:\\n\", products.head(), \"\\n\")\n",
        "print(\"Transactions Dataset:\\n\", transactions.head(), \"\\n\")\n",
        "\n",
        "\n",
        "# Task 2: Lookalike Model\n",
        "# Preprocessing data for similarity calculations\n",
        "customer_transactions = transactions.groupby('CustomerID').agg({'TotalValue': 'sum', 'Quantity': 'sum'}).reset_index()\n",
        "customer_profiles = pd.merge(customer_transactions, customers, on='CustomerID', how='left')\n",
        "\n",
        "# Encoding categorical data (e.g., Region)\n",
        "customer_profiles_encoded = pd.get_dummies(customer_profiles, columns=['Region'], drop_first=True)\n",
        "\n",
        "# Standardizing the numerical features\n",
        "scaler = StandardScaler()\n",
        "customer_profiles_scaled = scaler.fit_transform(customer_profiles_encoded.drop(columns=['CustomerID', 'CustomerName', 'SignupDate']))\n",
        "\n",
        "# Calculating similarity matrix\n",
        "similarity_matrix = cosine_similarity(customer_profiles_scaled)\n",
        "\n",
        "# Function to find top 3 similar customers for a given customer\n",
        "def get_top_3_similar(customers_df, similarity_matrix, customer_index):\n",
        "    similarity_scores = list(enumerate(similarity_matrix[customer_index]))\n",
        "    similarity_scores = sorted(similarity_scores, key=lambda x: x[1], reverse=True)\n",
        "    top_3 = similarity_scores[1:4]  # Exclude the customer itself (index 0)\n",
        "    return [(customers_df.iloc[i[0]].CustomerID, i[1]) for i in top_3]\n",
        "\n",
        "# Generating Lookalike.csv for the first 20 customers\n",
        "lookalike_results = {}\n",
        "for i in range(20):\n",
        "    customer_id = customer_profiles.iloc[i].CustomerID\n",
        "    top_3_similars = get_top_3_similar(customer_profiles, similarity_matrix, i)\n",
        "    lookalike_results[customer_id] = top_3_similars\n",
        "\n",
        "# Saving lookalike results to CSV\n",
        "lookalike_df = pd.DataFrame({\n",
        "    'CustomerID': lookalike_results.keys(),\n",
        "    'Lookalikes': [str(value) for value in lookalike_results.values()]\n",
        "})\n",
        "\n",
        "lookalike_df.to_csv('Lookalike.csv', index=False)\n",
        "print(\"Lookalike model results saved to Lookalike.csv\")"
      ]
    }
  ]
}